{
 "cells": [
  {
   "cell_type": "markdown",
   "metadata": {},
   "source": [
    "## Product Recommendation System"
   ]
  },
  {
   "cell_type": "markdown",
   "metadata": {},
   "source": [
    "### Main Problem: Recommend products to customers based on their past purchases and product categories they tend to buy."
   ]
  },
  {
   "cell_type": "markdown",
   "metadata": {},
   "source": [
    "### Data Understanding\n",
    "#### 1.0. What is the domain area of the dataset?\n",
    "The Black Friday Sales dataset is a comprehensive collection of sales transaction data from a major retail store during a Black Friday event.\n",
    "\n",
    "#### 1.1. Under which circumstances was it collected?\n",
    "It is obtained from a major retail store during a Black Friday event.\n",
    "\n",
    "#### 2.0. Which data format?\n",
    "The format of the dataset is *.csv*\n",
    "\n",
    "#### 2.1. Do the files have headers or another file describing the data?\n",
    "The files does have headers that describes the data! Each column has a name that describes the data it contains!\n",
    "\n",
    "#### 2.2. Are the data values separated by commas, semicolon, or tabs?\n",
    "The data values are separated by commas!\n",
    "**Example:**   \n",
    "User_ID,Product_ID,Gender,Age,Occupation,City_Category,Stay_In_Current_City_Years,Marital_Status,Product_Category_1,Product_Category_2,Product_Category_3,Purchase  \n",
    "1000001,P00069042,F,0-17,10,A,2,0,3,,,8370  \n",
    "\n",
    "#### 3.0 How many features and how many observations does the dataset have?\n",
    "The dataset has:  \n",
    "* over 550,000 observations or rows!  \n",
    "* 12 features or columns!\n",
    "\n",
    "#### 4.0 Does it contain numerical features? How many?\n",
    "Yes it has 4 numerical features.\n",
    "\n",
    "#### 5.0. Does it contain categorical features? How many?\n",
    "Yes, it has 5 numerical features."
   ]
  }
 ],
 "metadata": {
  "language_info": {
   "name": "python"
  }
 },
 "nbformat": 4,
 "nbformat_minor": 2
}
