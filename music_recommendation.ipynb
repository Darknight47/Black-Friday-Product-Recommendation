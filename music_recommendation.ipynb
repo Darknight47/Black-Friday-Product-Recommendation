{
 "cells": [
  {
   "cell_type": "markdown",
   "metadata": {},
   "source": [
    "## Main Objective\n",
    "The goal is to create a recommendation system that can suggest relevant songs to user based on their musical interest, known and liked songs, or general preferences."
   ]
  }
 ],
 "metadata": {
  "language_info": {
   "name": "python"
  }
 },
 "nbformat": 4,
 "nbformat_minor": 2
}
